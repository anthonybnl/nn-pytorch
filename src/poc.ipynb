{
 "cells": [
  {
   "cell_type": "code",
   "execution_count": 1,
   "id": "ed1c9399-d998-4bb6-b95b-ff086b686e0c",
   "metadata": {},
   "outputs": [],
   "source": [
    "import torch\n",
    "import torchvision"
   ]
  },
  {
   "cell_type": "code",
   "execution_count": 2,
   "id": "ebee663a-d91e-466f-85ff-4b6b721363d8",
   "metadata": {},
   "outputs": [],
   "source": [
    "import torch.nn as nn\n",
    "import torch.nn.functional as F"
   ]
  },
  {
   "cell_type": "code",
   "execution_count": 3,
   "id": "0259d409-2ab8-4b4d-b863-28c0edc98f21",
   "metadata": {},
   "outputs": [],
   "source": [
    "import matplotlib.pyplot as plt\n",
    "import pandas as pd"
   ]
  },
  {
   "cell_type": "code",
   "execution_count": 4,
   "id": "111bb654-eef3-439b-8c02-36abe4420b04",
   "metadata": {},
   "outputs": [],
   "source": [
    "import PIL"
   ]
  },
  {
   "cell_type": "code",
   "execution_count": 5,
   "id": "19ec8d1a-2789-4393-b2f7-cef24b9bf96f",
   "metadata": {},
   "outputs": [],
   "source": [
    "import seaborn as sns"
   ]
  },
  {
   "cell_type": "code",
   "execution_count": 6,
   "id": "be682ddc-50df-4c35-9874-c535091e2fc0",
   "metadata": {},
   "outputs": [],
   "source": [
    "from os import path"
   ]
  },
  {
   "cell_type": "code",
   "execution_count": 7,
   "id": "79e6bda8-86f8-4ce6-bd17-dfcecf98c626",
   "metadata": {},
   "outputs": [],
   "source": [
    "train_data = torchvision.datasets.FashionMNIST(\n",
    "    root=path.join(\"..\", \"data\"),\n",
    "    train=True,\n",
    "    download=True,\n",
    "    transform=torchvision.transforms.ToTensor(),\n",
    ")\n",
    "\n",
    "    # Download test data\n",
    "test_data = torchvision.datasets.FashionMNIST(\n",
    "    root=path.join(\"..\", \"data\"),\n",
    "    train=False,\n",
    "    download=True,\n",
    "    transform=torchvision.transforms.ToTensor(),\n",
    ")"
   ]
  },
  {
   "cell_type": "code",
   "execution_count": 8,
   "id": "69848ef3-7846-47d9-ba9b-0c02ef6328ad",
   "metadata": {},
   "outputs": [
    {
     "name": "stdout",
     "output_type": "stream",
     "text": [
      "class is : 9\n",
      "torch.float32\n",
      "torch.Size([1, 28, 28])\n"
     ]
    },
    {
     "data": {
      "image/png": "[encoded data removed]",
      "text/plain": [
       "<Figure size 640x480 with 2 Axes>"
      ]
     },
     "metadata": {},
     "output_type": "display_data"
    }
   ],
   "source": [
    "def _():\n",
    "    image_tensor, cls = train_data[0]\n",
    "    plt.imshow(image_tensor.squeeze(), cmap=\"grey\")\n",
    "    plt.colorbar()\n",
    "    print(f\"class is : {cls}\")\n",
    "    print(image_tensor.dtype)\n",
    "    print(image_tensor.shape)\n",
    "_()"
   ]
  },
  {
   "cell_type": "code",
   "execution_count": 9,
   "id": "e115255b-4de3-4273-9464-a066038d039f",
   "metadata": {},
   "outputs": [
    {
     "data": {
      "text/plain": [
       "True"
      ]
     },
     "execution_count": 9,
     "metadata": {},
     "output_type": "execute_result"
    }
   ],
   "source": [
    "torch.cuda.is_available()"
   ]
  },
  {
   "cell_type": "code",
   "execution_count": 10,
   "id": "d7f08d1c-c23a-4a8e-8b28-5626b83319b6",
   "metadata": {},
   "outputs": [
    {
     "data": {
      "text/plain": [
       "device(type='cuda')"
      ]
     },
     "execution_count": 10,
     "metadata": {},
     "output_type": "execute_result"
    }
   ],
   "source": [
    "device = torch.device(\"cuda\" if torch.cuda.is_available() else \"cpu\")\n",
    "device"
   ]
  },
  {
   "cell_type": "code",
   "execution_count": 11,
   "id": "cee10950-06c6-4296-85a5-38bf990bee19",
   "metadata": {},
   "outputs": [],
   "source": [
    "image_to_tensor = torchvision.transforms.PILToTensor()\n",
    "tensor_to_image = torchvision.transforms.ToPILImage()"
   ]
  },
  {
   "cell_type": "code",
   "execution_count": 12,
   "id": "24718fc1-5150-4f8b-886b-be04e44316fd",
   "metadata": {},
   "outputs": [
    {
     "name": "stdout",
     "output_type": "stream",
     "text": [
      "shape : torch.Size([1, 28, 28])\n"
     ]
    },
    {
     "data": {
      "image/jpeg": "[encoded data removed]",
      "image/png": "[encoded data removed]",
      "text/plain": [
       "<PIL.Image.Image image mode=L size=28x28>"
      ]
     },
     "execution_count": 12,
     "metadata": {},
     "output_type": "execute_result"
    }
   ],
   "source": [
    "image_tensor, cls = train_data[0]\n",
    "print(f\"shape : {image_tensor.shape}\")\n",
    "image = tensor_to_image(image_tensor)\n",
    "image"
   ]
  },
  {
   "cell_type": "code",
   "execution_count": 13,
   "id": "79865e5f-fef2-4c90-8b85-075bbfb00bae",
   "metadata": {},
   "outputs": [
    {
     "data": {
      "image/jpeg": "[encoded data removed]",
      "image/png": "[encoded data removed]",
      "text/plain": [
       "<PIL.Image.Image image mode=L size=128x128>"
      ]
     },
     "execution_count": 13,
     "metadata": {},
     "output_type": "execute_result"
    }
   ],
   "source": [
    "image.resize(size=(128,128,), resample=PIL.Image.NEAREST)"
   ]
  },
  {
   "cell_type": "code",
   "execution_count": 14,
   "id": "c00b023f-5506-48e3-baa3-943719fece1f",
   "metadata": {},
   "outputs": [
    {
     "data": {
      "text/plain": [
       "'L'"
      ]
     },
     "execution_count": 14,
     "metadata": {},
     "output_type": "execute_result"
    }
   ],
   "source": [
    "image.mode"
   ]
  },
  {
   "cell_type": "code",
   "execution_count": 15,
   "id": "48b73dcd-7318-4a53-b056-3d5d96a7dc72",
   "metadata": {},
   "outputs": [],
   "source": [
    "class Model(nn.Module):\n",
    "    def __init__(self) -> None:\n",
    "        super().__init__()\n",
    "        self.flatten = nn.Flatten()\n",
    "        self.layer1 = nn.Linear(28 * 28, 512)\n",
    "        self.layer2 = nn.Linear(512, 512)\n",
    "        self.layer3 = nn.Linear(512, 10)\n",
    "\n",
    "    def forward(self, x):\n",
    "        x0 = self.flatten(x)\n",
    "        x1 = F.relu(self.layer1(x0))\n",
    "        x2 = F.relu(self.layer2(x1))\n",
    "        x3 = self.layer3(x2)\n",
    "        return x3"
   ]
  },
  {
   "cell_type": "code",
   "execution_count": 16,
   "id": "df9abbc0-3096-4e1b-ae08-b4cf77761fa1",
   "metadata": {},
   "outputs": [
    {
     "name": "stdout",
     "output_type": "stream",
     "text": [
      "tensor([[ 0.1424, -0.0710, -0.0371,  0.0951, -0.0486,  0.1545, -0.0003,  0.0764,\n",
      "         -0.0658, -0.0068]], grad_fn=<AddmmBackward0>)\n",
      "tensor([0.1122, 0.0906, 0.0938, 0.1070, 0.0927, 0.1136, 0.0973, 0.1050, 0.0911,\n",
      "        0.0966])\n"
     ]
    },
    {
     "data": {
      "text/plain": [
       "<Axes: xlabel='Category', ylabel='Probability'>"
      ]
     },
     "execution_count": 16,
     "metadata": {},
     "output_type": "execute_result"
    },
    {
     "data": {
      "image/png": "[encoded data removed]",
      "text/plain": [
       "<Figure size 1000x200 with 1 Axes>"
      ]
     },
     "metadata": {},
     "output_type": "display_data"
    }
   ],
   "source": [
    "model_cpu = Model()\n",
    "model_cpu.eval()\n",
    "\n",
    "logits = model_cpu(train_data[0][0])\n",
    "print(logits)\n",
    "\n",
    "probas = torch.nn.functional.softmax(logits, dim=-1).squeeze().detach().clone()\n",
    "print(probas)\n",
    "\n",
    "df = pd.DataFrame(\n",
    "    {\n",
    "        \"Category\": train_data.classes,\n",
    "        \"Probability\": probas.numpy(),\n",
    "    }\n",
    ")\n",
    "\n",
    "plt.figure(figsize=(10, 2))\n",
    "plt.ylim(0.0, 1.0)\n",
    "plt.grid(True)\n",
    "sns.barplot(x=\"Category\", y=\"Probability\", data=df)"
   ]
  },
  {
   "cell_type": "code",
   "execution_count": 17,
   "id": "c4c090ac-fdf0-4e99-bde1-01ff3bc0c706",
   "metadata": {},
   "outputs": [
    {
     "data": {
      "text/plain": [
       "torch.Size([1, 28, 28])"
      ]
     },
     "execution_count": 17,
     "metadata": {},
     "output_type": "execute_result"
    }
   ],
   "source": [
    "image_tensor.shape"
   ]
  },
  {
   "cell_type": "code",
   "execution_count": 18,
   "id": "30fdaddf-4329-4b32-a0d8-2f169363300a",
   "metadata": {},
   "outputs": [
    {
     "data": {
      "image/png": "[encoded data removed]",
      "text/plain": [
       "<Figure size 640x480 with 1 Axes>"
      ]
     },
     "metadata": {},
     "output_type": "display_data"
    }
   ],
   "source": [
    "def _():\n",
    "    relu = torch.nn.ReLU()\n",
    "    input_1 = torch.linspace(-3.0, 3.0, 7)\n",
    "    plt.plot(input_1, relu(input_1))\n",
    "_()"
   ]
  },
  {
   "cell_type": "code",
   "execution_count": 19,
   "id": "855eb526-ceec-4e79-b6b5-1986a7efceb0",
   "metadata": {},
   "outputs": [
    {
     "data": {
      "text/plain": [
       "CrossEntropyLoss()"
      ]
     },
     "execution_count": 19,
     "metadata": {},
     "output_type": "execute_result"
    }
   ],
   "source": [
    "loss_fn = torch.nn.CrossEntropyLoss()\n",
    "loss_fn"
   ]
  },
  {
   "cell_type": "markdown",
   "id": "30789cfa-1a80-4f08-af13-4fdedc3ab2b9",
   "metadata": {},
   "source": [
    "It measures the difference between two probability distributions: here a computed probability distribution $p=(p_0, \\dots, p_{n-1})$ and the \"deterministic\" distribution $e_i$ that states that the $i$ event is certain: every entry of $e_i$ is null but the $i$th which is equal to 1:\n",
    "\n",
    "$$\n",
    "e_i=(0, \\dots, 0, 1, 0, \\dots, 0)\n",
    "$$\n",
    "\n",
    "The difference is measured with:\n",
    "\n",
    "$$\n",
    "\\mathrm{loss}(p, e_i) = - \\sum_{j} e_{ij} \\log p_j = - \\log p_i. \n",
    "$$\n",
    "\n",
    "The loss is zero when $p_i = 1$ (perfect match) and $\\infty$ when $p_i = 0$. It does not depend on the distribution of the $p_j$ for $j \\neq i$.\n",
    "\n",
    "/// warning\n",
    "\n",
    "The pytorch cross entropy function works directly with unnormalized log probabilities \n",
    "\n",
    "$$\n",
    "\\ell_i := \\log p_i + c\n",
    "$$\n",
    "\n",
    "(the log probabilities up to a shared constant $c$) instead of the probabilites $p$. \n",
    "The deterministic distribution is also specified by the index $i$ instead of the vector $q=e_i$.\n",
    "Hence, it actually computes\n",
    "\n",
    "$$\n",
    "\\mathrm{loss}(\\ell, i) := -\\ell_i  + \\log \\left( \\sum_je^{\\ell_j} \\right). \n",
    "$$\n",
    "\n",
    "///"
   ]
  },
  {
   "cell_type": "code",
   "execution_count": 20,
   "id": "0bb8aab3-8c41-40c8-89c2-71cc482443f0",
   "metadata": {},
   "outputs": [
    {
     "name": "stdout",
     "output_type": "stream",
     "text": [
      "tensor(inf)\n",
      "tensor(0.)\n"
     ]
    }
   ],
   "source": [
    "loss = loss_fn(\n",
    "    input = torch.tensor([1.0, 0.0]).log(), \n",
    "    target = torch.tensor(1)\n",
    ")\n",
    "print(loss)\n",
    "loss = loss_fn(\n",
    "    input = torch.tensor([0.0, 1.0]).log(), \n",
    "    target = torch.tensor(1)\n",
    ")\n",
    "print(loss)"
   ]
  },
  {
   "cell_type": "code",
   "execution_count": 21,
   "id": "b62943ba-1336-4c78-9688-7ef05f386da2",
   "metadata": {},
   "outputs": [],
   "source": [
    "train_data_device = (train_data.data / 255).to(device)\n",
    "train_labels_device = train_data.targets.to(device)\n",
    "\n",
    "test_data_device = (test_data.data / 255).to(device)\n",
    "test_labels_device = test_data.targets.clone().to(device)"
   ]
  },
  {
   "cell_type": "code",
   "execution_count": 22,
   "id": "0aba3e50-727f-49e4-80d1-69cd55f382df",
   "metadata": {},
   "outputs": [],
   "source": [
    "batch_size = 64"
   ]
  },
  {
   "cell_type": "code",
   "execution_count": 23,
   "id": "44693a67-2cc9-4aec-a999-708d8dcd4ffe",
   "metadata": {},
   "outputs": [],
   "source": [
    "class CustomDataSet:\n",
    "    def __init__(self, data, labels):\n",
    "        self.data = data\n",
    "        self.labels = labels\n",
    "    def __getitem__(self, key):\n",
    "        return (self.data[key], self.labels[key],)\n",
    "    def __len__(self):\n",
    "        return len(self.data)\n",
    "\n",
    "ds = CustomDataSet(train_data_device, train_labels_device)\n",
    "dataloader = torch.utils.data.DataLoader(ds, batch_size=batch_size, shuffle=True)\n",
    "\n",
    "test_ds = CustomDataSet(test_data_device, test_labels_device)\n",
    "test_dataloader = torch.utils.data.DataLoader(test_ds, batch_size=batch_size, shuffle=True)"
   ]
  },
  {
   "cell_type": "code",
   "execution_count": 24,
   "id": "fe60f8dd-dcda-4d40-a9a9-ed48474d611e",
   "metadata": {},
   "outputs": [],
   "source": [
    "def train(dataloader, model, loss_fn, optimizer):\n",
    "    size = len(dataloader.dataset)\n",
    "    model.train()\n",
    "\n",
    "    for batch, [x, y] in enumerate(dataloader):\n",
    "        pred = model(x)\n",
    "\n",
    "        loss = loss_fn(pred, y)\n",
    "        loss.backward()\n",
    "        optimizer.step()\n",
    "        optimizer.zero_grad()\n",
    "\n",
    "        if batch % 100 == 0:\n",
    "            current = (batch + 1) * len(x)\n",
    "            loss_item = loss.item()\n",
    "            print(f\"loss: {loss_item:>7f}  [{current:>5d}/{size:>5d}]\")"
   ]
  },
  {
   "cell_type": "code",
   "execution_count": 33,
   "id": "45ce6c1c-a9a2-4c8f-b5a8-efdbbf8a179d",
   "metadata": {},
   "outputs": [],
   "source": [
    "def test(dataloader, model, loss_fn):\n",
    "        \"\"\"\n",
    "        Returns:\n",
    "          - score, the probability of a correct inference on the test dataset\n",
    "        \"\"\"\n",
    "        size = len(dataloader.dataset)\n",
    "        num_batches = len(dataloader)\n",
    "        model.eval()\n",
    "        test_loss, correct = (0, 0)\n",
    "        with torch.no_grad():\n",
    "            for X, y in dataloader:\n",
    "                pred = model(X)\n",
    "                test_loss = test_loss + loss_fn(pred, y).item()\n",
    "                correct = correct + (pred.argmax(1) == y).type(torch.float).sum().item()\n",
    "        test_loss = test_loss / num_batches\n",
    "        correct = correct / size\n",
    "        print(f'Test Error: \\n Accuracy: {100 * correct:>0.2f}%, Avg loss: {test_loss:>8f} \\n')\n",
    "        return correct"
   ]
  },
  {
   "cell_type": "code",
   "execution_count": 29,
   "id": "b36762d7-d3d5-487a-b5f1-42bad155f561",
   "metadata": {},
   "outputs": [],
   "source": [
    "def learn(model, loss_fn, max_epoch=10, lr=1e-3, list_score_train=None, list_score_test=None):\n",
    "    \"\"\"\n",
    "    Launch max_epoch train\n",
    "    \"\"\"\n",
    "    optimizer = torch.optim.SGD(model.parameters(), lr=lr)\n",
    "    epoch = 0\n",
    "    while epoch < max_epoch:\n",
    "        print(f\"Epoch {epoch}\\n-------------------------------\")\n",
    "        train(dataloader, model, loss_fn, optimizer)\n",
    "        # score train\n",
    "        if list_score_train is not None:\n",
    "            score = test(dataloader, model, loss_fn)\n",
    "            list_score_train.append(score)\n",
    "        # score train\n",
    "        if list_score_test is not None:\n",
    "            score = test(test_dataloader, model, loss_fn)\n",
    "            list_score_test.append(score)\n",
    "        epoch += 1\n",
    "        \n",
    "    print(\"Done!\")"
   ]
  },
  {
   "cell_type": "code",
   "execution_count": 34,
   "id": "64360df2-f008-4865-a37c-17464d5fa7ad",
   "metadata": {},
   "outputs": [
    {
     "name": "stdout",
     "output_type": "stream",
     "text": [
      "Test Error: \n",
      " Accuracy: 8.58%, Avg loss: 2.305342 \n",
      "\n",
      "Test Error: \n",
      " Accuracy: 8.64%, Avg loss: 2.305446 \n",
      "\n"
     ]
    }
   ],
   "source": [
    "list_score_train = []\n",
    "list_score_test = []\n",
    "\n",
    "model_device = Model().to(device)\n",
    "\n",
    "list_score_train.append(test(dataloader, model_device, loss_fn))\n",
    "list_score_test.append(test(test_dataloader, model_device, loss_fn))"
   ]
  },
  {
   "cell_type": "code",
   "execution_count": 35,
   "id": "743ab729-20e9-44de-ba90-fc80764ab480",
   "metadata": {
    "scrolled": true
   },
   "outputs": [
    {
     "name": "stdout",
     "output_type": "stream",
     "text": [
      "Epoch 0\n",
      "-------------------------------\n",
      "loss: 2.303228  [   64/60000]\n",
      "loss: 2.285612  [ 6464/60000]\n",
      "loss: 2.276350  [12864/60000]\n",
      "loss: 2.257454  [19264/60000]\n",
      "loss: 2.245569  [25664/60000]\n",
      "loss: 2.234661  [32064/60000]\n",
      "loss: 2.206423  [38464/60000]\n",
      "loss: 2.193694  [44864/60000]\n",
      "loss: 2.161296  [51264/60000]\n",
      "loss: 2.140994  [57664/60000]\n",
      "Test Error: \n",
      " Accuracy: 45.62%, Avg loss: 2.148894 \n",
      "\n",
      "Test Error: \n",
      " Accuracy: 44.37%, Avg loss: 2.149746 \n",
      "\n",
      "Epoch 1\n",
      "-------------------------------\n",
      "loss: 2.142536  [   64/60000]\n",
      "loss: 2.131123  [ 6464/60000]\n",
      "loss: 2.090165  [12864/60000]\n",
      "loss: 2.071676  [19264/60000]\n",
      "loss: 2.042579  [25664/60000]\n",
      "loss: 2.030457  [32064/60000]\n",
      "loss: 1.982662  [38464/60000]\n",
      "loss: 1.900591  [44864/60000]\n",
      "loss: 1.927330  [51264/60000]\n",
      "loss: 1.902645  [57664/60000]\n",
      "Test Error: \n",
      " Accuracy: 54.87%, Avg loss: 1.870922 \n",
      "\n",
      "Test Error: \n",
      " Accuracy: 54.46%, Avg loss: 1.872897 \n",
      "\n",
      "Epoch 2\n",
      "-------------------------------\n",
      "loss: 1.924852  [   64/60000]\n",
      "loss: 1.830720  [ 6464/60000]\n",
      "loss: 1.758415  [12864/60000]\n",
      "loss: 1.766148  [19264/60000]\n",
      "loss: 1.718683  [25664/60000]\n",
      "loss: 1.691852  [32064/60000]\n",
      "loss: 1.554907  [38464/60000]\n",
      "loss: 1.561103  [44864/60000]\n",
      "loss: 1.537753  [51264/60000]\n",
      "loss: 1.600147  [57664/60000]\n",
      "Test Error: \n",
      " Accuracy: 61.82%, Avg loss: 1.501138 \n",
      "\n",
      "Test Error: \n",
      " Accuracy: 60.82%, Avg loss: 1.505311 \n",
      "\n",
      "Epoch 3\n",
      "-------------------------------\n",
      "loss: 1.465650  [   64/60000]\n",
      "loss: 1.573707  [ 6464/60000]\n",
      "loss: 1.379147  [12864/60000]\n",
      "loss: 1.307860  [19264/60000]\n",
      "loss: 1.367552  [25664/60000]\n",
      "loss: 1.346624  [32064/60000]\n",
      "loss: 1.365374  [38464/60000]\n",
      "loss: 1.232855  [44864/60000]\n",
      "loss: 1.296977  [51264/60000]\n",
      "loss: 1.228804  [57664/60000]\n",
      "Test Error: \n",
      " Accuracy: 64.92%, Avg loss: 1.233242 \n",
      "\n",
      "Test Error: \n",
      " Accuracy: 63.94%, Avg loss: 1.239930 \n",
      "\n",
      "Epoch 4\n",
      "-------------------------------\n",
      "loss: 1.267646  [   64/60000]\n",
      "loss: 1.230675  [ 6464/60000]\n",
      "loss: 1.140873  [12864/60000]\n",
      "loss: 1.250067  [19264/60000]\n",
      "loss: 1.134953  [25664/60000]\n",
      "loss: 1.041958  [32064/60000]\n",
      "loss: 1.144026  [38464/60000]\n",
      "loss: 0.930214  [44864/60000]\n",
      "loss: 1.165469  [51264/60000]\n",
      "loss: 1.186510  [57664/60000]\n",
      "Test Error: \n",
      " Accuracy: 66.01%, Avg loss: 1.066878 \n",
      "\n",
      "Test Error: \n",
      " Accuracy: 64.62%, Avg loss: 1.075669 \n",
      "\n",
      "Epoch 5\n",
      "-------------------------------\n",
      "loss: 1.174672  [   64/60000]\n",
      "loss: 0.972372  [ 6464/60000]\n",
      "loss: 0.942794  [12864/60000]\n",
      "loss: 1.090582  [19264/60000]\n",
      "loss: 1.033712  [25664/60000]\n",
      "loss: 0.848711  [32064/60000]\n",
      "loss: 0.957247  [38464/60000]\n",
      "loss: 0.911883  [44864/60000]\n",
      "loss: 1.069586  [51264/60000]\n",
      "loss: 0.975542  [57664/60000]\n",
      "Test Error: \n",
      " Accuracy: 67.36%, Avg loss: 0.960175 \n",
      "\n",
      "Test Error: \n",
      " Accuracy: 66.13%, Avg loss: 0.970244 \n",
      "\n",
      "Epoch 6\n",
      "-------------------------------\n",
      "loss: 0.925338  [   64/60000]\n",
      "loss: 0.936389  [ 6464/60000]\n",
      "loss: 0.798422  [12864/60000]\n",
      "loss: 0.744829  [19264/60000]\n",
      "loss: 0.954503  [25664/60000]\n",
      "loss: 0.880521  [32064/60000]\n",
      "loss: 0.975250  [38464/60000]\n",
      "loss: 0.912081  [44864/60000]\n",
      "loss: 0.862437  [51264/60000]\n",
      "loss: 0.926849  [57664/60000]\n",
      "Test Error: \n",
      " Accuracy: 68.19%, Avg loss: 0.887895 \n",
      "\n",
      "Test Error: \n",
      " Accuracy: 66.87%, Avg loss: 0.901005 \n",
      "\n",
      "Epoch 7\n",
      "-------------------------------\n",
      "loss: 0.891343  [   64/60000]\n",
      "loss: 0.945560  [ 6464/60000]\n",
      "loss: 0.887112  [12864/60000]\n",
      "loss: 0.897908  [19264/60000]\n",
      "loss: 0.859613  [25664/60000]\n",
      "loss: 0.974192  [32064/60000]\n",
      "loss: 0.828600  [38464/60000]\n",
      "loss: 0.782871  [44864/60000]\n",
      "loss: 0.830841  [51264/60000]\n",
      "loss: 0.794672  [57664/60000]\n",
      "Test Error: \n",
      " Accuracy: 69.38%, Avg loss: 0.836078 \n",
      "\n",
      "Test Error: \n",
      " Accuracy: 68.08%, Avg loss: 0.850097 \n",
      "\n",
      "Epoch 8\n",
      "-------------------------------\n",
      "loss: 1.127152  [   64/60000]\n",
      "loss: 0.789892  [ 6464/60000]\n",
      "loss: 1.031295  [12864/60000]\n",
      "loss: 0.799535  [19264/60000]\n",
      "loss: 0.756540  [25664/60000]\n",
      "loss: 0.753627  [32064/60000]\n",
      "loss: 0.793030  [38464/60000]\n",
      "loss: 0.803029  [44864/60000]\n",
      "loss: 0.688582  [51264/60000]\n",
      "loss: 0.829649  [57664/60000]\n",
      "Test Error: \n",
      " Accuracy: 69.59%, Avg loss: 0.799601 \n",
      "\n",
      "Test Error: \n",
      " Accuracy: 68.24%, Avg loss: 0.814979 \n",
      "\n",
      "Epoch 9\n",
      "-------------------------------\n",
      "loss: 0.596768  [   64/60000]\n",
      "loss: 0.895521  [ 6464/60000]\n",
      "loss: 0.780994  [12864/60000]\n",
      "loss: 0.645809  [19264/60000]\n",
      "loss: 0.790321  [25664/60000]\n",
      "loss: 0.644973  [32064/60000]\n",
      "loss: 0.662156  [38464/60000]\n",
      "loss: 0.769798  [44864/60000]\n",
      "loss: 0.611054  [51264/60000]\n",
      "loss: 0.893815  [57664/60000]\n",
      "Test Error: \n",
      " Accuracy: 72.08%, Avg loss: 0.765663 \n",
      "\n",
      "Test Error: \n",
      " Accuracy: 70.91%, Avg loss: 0.781189 \n",
      "\n",
      "Epoch 10\n",
      "-------------------------------\n",
      "loss: 0.883693  [   64/60000]\n",
      "loss: 0.709685  [ 6464/60000]\n",
      "loss: 0.738404  [12864/60000]\n",
      "loss: 0.782654  [19264/60000]\n",
      "loss: 0.793266  [25664/60000]\n",
      "loss: 0.735529  [32064/60000]\n",
      "loss: 0.711070  [38464/60000]\n",
      "loss: 0.755559  [44864/60000]\n",
      "loss: 0.600961  [51264/60000]\n",
      "loss: 0.658389  [57664/60000]\n",
      "Test Error: \n",
      " Accuracy: 73.40%, Avg loss: 0.739879 \n",
      "\n",
      "Test Error: \n",
      " Accuracy: 72.27%, Avg loss: 0.756363 \n",
      "\n",
      "Epoch 11\n",
      "-------------------------------\n",
      "loss: 0.723130  [   64/60000]\n",
      "loss: 0.621577  [ 6464/60000]\n",
      "loss: 0.721281  [12864/60000]\n",
      "loss: 0.681329  [19264/60000]\n",
      "loss: 0.753068  [25664/60000]\n",
      "loss: 0.729760  [32064/60000]\n",
      "loss: 0.814085  [38464/60000]\n",
      "loss: 0.623159  [44864/60000]\n",
      "loss: 0.754018  [51264/60000]\n",
      "loss: 0.696463  [57664/60000]\n",
      "Test Error: \n",
      " Accuracy: 74.28%, Avg loss: 0.718241 \n",
      "\n",
      "Test Error: \n",
      " Accuracy: 73.12%, Avg loss: 0.736073 \n",
      "\n",
      "Epoch 12\n",
      "-------------------------------\n",
      "loss: 0.639675  [   64/60000]\n",
      "loss: 0.669940  [ 6464/60000]\n",
      "loss: 0.717088  [12864/60000]\n",
      "loss: 0.604577  [19264/60000]\n",
      "loss: 0.844939  [25664/60000]\n",
      "loss: 0.662731  [32064/60000]\n",
      "loss: 0.678796  [38464/60000]\n",
      "loss: 0.760494  [44864/60000]\n",
      "loss: 0.747531  [51264/60000]\n",
      "loss: 0.750463  [57664/60000]\n",
      "Test Error: \n",
      " Accuracy: 75.22%, Avg loss: 0.697776 \n",
      "\n",
      "Test Error: \n",
      " Accuracy: 74.36%, Avg loss: 0.715345 \n",
      "\n",
      "Epoch 13\n",
      "-------------------------------\n",
      "loss: 0.911498  [   64/60000]\n",
      "loss: 0.691390  [ 6464/60000]\n",
      "loss: 0.699939  [12864/60000]\n",
      "loss: 0.760537  [19264/60000]\n",
      "loss: 0.787852  [25664/60000]\n",
      "loss: 0.559670  [32064/60000]\n",
      "loss: 0.677243  [38464/60000]\n",
      "loss: 0.557469  [44864/60000]\n",
      "loss: 0.607980  [51264/60000]\n",
      "loss: 0.672238  [57664/60000]\n",
      "Test Error: \n",
      " Accuracy: 76.01%, Avg loss: 0.679991 \n",
      "\n",
      "Test Error: \n",
      " Accuracy: 75.19%, Avg loss: 0.699745 \n",
      "\n",
      "Epoch 14\n",
      "-------------------------------\n",
      "loss: 0.618322  [   64/60000]\n",
      "loss: 0.716486  [ 6464/60000]\n",
      "loss: 0.594870  [12864/60000]\n",
      "loss: 0.733714  [19264/60000]\n",
      "loss: 0.648582  [25664/60000]\n",
      "loss: 0.729735  [32064/60000]\n",
      "loss: 0.817837  [38464/60000]\n",
      "loss: 0.667178  [44864/60000]\n",
      "loss: 0.629816  [51264/60000]\n",
      "loss: 0.709002  [57664/60000]\n",
      "Test Error: \n",
      " Accuracy: 76.89%, Avg loss: 0.664150 \n",
      "\n",
      "Test Error: \n",
      " Accuracy: 75.78%, Avg loss: 0.682112 \n",
      "\n",
      "Epoch 15\n",
      "-------------------------------\n",
      "loss: 0.668878  [   64/60000]\n",
      "loss: 0.652891  [ 6464/60000]\n",
      "loss: 0.641466  [12864/60000]\n",
      "loss: 0.678687  [19264/60000]\n",
      "loss: 0.598885  [25664/60000]\n",
      "loss: 0.510611  [32064/60000]\n",
      "loss: 0.560056  [38464/60000]\n",
      "loss: 0.700475  [44864/60000]\n",
      "loss: 0.633984  [51264/60000]\n",
      "loss: 0.788319  [57664/60000]\n",
      "Test Error: \n",
      " Accuracy: 77.46%, Avg loss: 0.647986 \n",
      "\n",
      "Test Error: \n",
      " Accuracy: 76.59%, Avg loss: 0.668400 \n",
      "\n",
      "Epoch 16\n",
      "-------------------------------\n",
      "loss: 0.605867  [   64/60000]\n",
      "loss: 0.811395  [ 6464/60000]\n",
      "loss: 0.853607  [12864/60000]\n",
      "loss: 0.630609  [19264/60000]\n",
      "loss: 0.516176  [25664/60000]\n",
      "loss: 0.604480  [32064/60000]\n",
      "loss: 0.532763  [38464/60000]\n",
      "loss: 0.723176  [44864/60000]\n",
      "loss: 0.983134  [51264/60000]\n",
      "loss: 0.558617  [57664/60000]\n",
      "Test Error: \n",
      " Accuracy: 78.14%, Avg loss: 0.634137 \n",
      "\n",
      "Test Error: \n",
      " Accuracy: 77.21%, Avg loss: 0.655442 \n",
      "\n",
      "Epoch 17\n",
      "-------------------------------\n",
      "loss: 0.555612  [   64/60000]\n",
      "loss: 0.599249  [ 6464/60000]\n",
      "loss: 0.566893  [12864/60000]\n",
      "loss: 0.657181  [19264/60000]\n",
      "loss: 0.679139  [25664/60000]\n",
      "loss: 0.755930  [32064/60000]\n",
      "loss: 0.533961  [38464/60000]\n",
      "loss: 0.629578  [44864/60000]\n",
      "loss: 0.664033  [51264/60000]\n",
      "loss: 0.629341  [57664/60000]\n",
      "Test Error: \n",
      " Accuracy: 78.76%, Avg loss: 0.621847 \n",
      "\n",
      "Test Error: \n",
      " Accuracy: 77.67%, Avg loss: 0.644245 \n",
      "\n",
      "Epoch 18\n",
      "-------------------------------\n",
      "loss: 0.652962  [   64/60000]\n",
      "loss: 0.525334  [ 6464/60000]\n",
      "loss: 0.572253  [12864/60000]\n",
      "loss: 0.736660  [19264/60000]\n",
      "loss: 0.576233  [25664/60000]\n",
      "loss: 0.660301  [32064/60000]\n",
      "loss: 0.569743  [38464/60000]\n",
      "loss: 0.545380  [44864/60000]\n",
      "loss: 0.461092  [51264/60000]\n",
      "loss: 0.585620  [57664/60000]\n",
      "Test Error: \n",
      " Accuracy: 79.25%, Avg loss: 0.608906 \n",
      "\n",
      "Test Error: \n",
      " Accuracy: 78.04%, Avg loss: 0.630509 \n",
      "\n",
      "Epoch 19\n",
      "-------------------------------\n",
      "loss: 0.538996  [   64/60000]\n",
      "loss: 0.772132  [ 6464/60000]\n",
      "loss: 0.611784  [12864/60000]\n",
      "loss: 0.754467  [19264/60000]\n",
      "loss: 0.641191  [25664/60000]\n",
      "loss: 0.634473  [32064/60000]\n",
      "loss: 0.729210  [38464/60000]\n",
      "loss: 0.519193  [44864/60000]\n",
      "loss: 0.518155  [51264/60000]\n",
      "loss: 0.658075  [57664/60000]\n",
      "Test Error: \n",
      " Accuracy: 79.77%, Avg loss: 0.598400 \n",
      "\n",
      "Test Error: \n",
      " Accuracy: 78.55%, Avg loss: 0.618821 \n",
      "\n",
      "Done!\n"
     ]
    }
   ],
   "source": [
    "learn(model_device, loss_fn, max_epoch=20, lr=1e-3, list_score_train=list_score_train, list_score_test=list_score_test)"
   ]
  },
  {
   "cell_type": "code",
   "execution_count": 36,
   "id": "384d59f0-ad7b-4fe4-973e-8320c0c500dd",
   "metadata": {},
   "outputs": [],
   "source": [
    "torch.save(model_device.state_dict(), path.join(\"..\", \"models\", \"model.pth\"))"
   ]
  },
  {
   "cell_type": "code",
   "execution_count": 37,
   "id": "d7c5894c-5a0c-43c2-9dd2-afe720e0bb24",
   "metadata": {},
   "outputs": [
    {
     "data": {
      "image/png": "[encoded data removed]",
      "text/plain": [
       "<Figure size 640x480 with 1 Axes>"
      ]
     },
     "metadata": {},
     "output_type": "display_data"
    }
   ],
   "source": [
    "def _():\n",
    "    plot_x = range(len(list_score_train))\n",
    "    plt.plot(plot_x, list_score_train, \"+-\", label=\"train\")\n",
    "    plt.plot(plot_x, list_score_test, \"+-\", label=\"test\")\n",
    "    plt.xlabel(\"epoch\")\n",
    "    plt.ylabel(\"score\")\n",
    "    plt.xlim(left=0, right=len(plot_x))\n",
    "    plt.ylim(0., 1.)\n",
    "    plt.grid(True)\n",
    "    plt.legend()\n",
    "_()"
   ]
  },
  {
   "cell_type": "code",
   "execution_count": 38,
   "id": "c0cb3e1c-979d-4ceb-b706-293dfbe88970",
   "metadata": {
    "scrolled": true
   },
   "outputs": [
    {
     "name": "stdout",
     "output_type": "stream",
     "text": [
      "classe : Bag\n"
     ]
    },
    {
     "data": {
      "image/jpeg": "[encoded data removed]",
      "image/png": "[encoded data removed]",
      "text/plain": [
       "<PIL.Image.Image image mode=L size=128x128>"
      ]
     },
     "execution_count": 38,
     "metadata": {},
     "output_type": "execute_result"
    }
   ],
   "source": [
    "ix = 62\n",
    "tensor, cls = test_data[ix]\n",
    "str_cls = test_data.classes[cls]\n",
    "print(f\"classe : {str_cls}\")\n",
    "\n",
    "tensor_to_image(tensor).resize(size=(128, 128))"
   ]
  },
  {
   "cell_type": "code",
   "execution_count": 48,
   "id": "406ea319-3069-41ba-8868-6552a79a7834",
   "metadata": {
    "scrolled": true
   },
   "outputs": [
    {
     "name": "stdout",
     "output_type": "stream",
     "text": [
      "affichage des logits\n"
     ]
    },
    {
     "data": {
      "text/plain": [
       "tensor([[-5.8063, -8.6506, -1.4485, -2.9480,  1.1748,  5.6150, -1.2851,  2.3484,\n",
       "          8.2967,  1.9068]])"
      ]
     },
     "execution_count": 48,
     "metadata": {},
     "output_type": "execute_result"
    }
   ],
   "source": [
    "model_device.eval()\n",
    "pred = model_device(tensor.to(device)).detach().cpu()\n",
    "print(\"affichage des logits\")\n",
    "pred"
   ]
  },
  {
   "cell_type": "code",
   "execution_count": 49,
   "id": "2e6df5ab-9031-4104-84f5-58ddbeda7bc3",
   "metadata": {
    "scrolled": true
   },
   "outputs": [
    {
     "data": {
      "text/html": [
       "<div>\n",
       "<style scoped>\n",
       "    .dataframe tbody tr th:only-of-type {\n",
       "        vertical-align: middle;\n",
       "    }\n",
       "\n",
       "    .dataframe tbody tr th {\n",
       "        vertical-align: top;\n",
       "    }\n",
       "\n",
       "    .dataframe thead th {\n",
       "        text-align: right;\n",
       "    }\n",
       "</style>\n",
       "<table border=\"1\" class=\"dataframe\">\n",
       "  <thead>\n",
       "    <tr style=\"text-align: right;\">\n",
       "      <th>Category</th>\n",
       "      <th>T-shirt/top</th>\n",
       "      <th>Trouser</th>\n",
       "      <th>Pullover</th>\n",
       "      <th>Dress</th>\n",
       "      <th>Coat</th>\n",
       "      <th>Sandal</th>\n",
       "      <th>Shirt</th>\n",
       "      <th>Sneaker</th>\n",
       "      <th>Bag</th>\n",
       "      <th>Ankle boot</th>\n",
       "    </tr>\n",
       "  </thead>\n",
       "  <tbody>\n",
       "    <tr>\n",
       "      <th>Probability</th>\n",
       "      <td>6.986413e-07</td>\n",
       "      <td>4.064618e-08</td>\n",
       "      <td>0.000055</td>\n",
       "      <td>0.000012</td>\n",
       "      <td>0.000752</td>\n",
       "      <td>0.063749</td>\n",
       "      <td>0.000064</td>\n",
       "      <td>0.002431</td>\n",
       "      <td>0.931373</td>\n",
       "      <td>0.001563</td>\n",
       "    </tr>\n",
       "  </tbody>\n",
       "</table>\n",
       "</div>"
      ],
      "text/plain": [
       "Category      T-shirt/top       Trouser  Pullover     Dress      Coat  \\\n",
       "Probability  6.986413e-07  4.064618e-08  0.000055  0.000012  0.000752   \n",
       "\n",
       "Category       Sandal     Shirt   Sneaker       Bag  Ankle boot  \n",
       "Probability  0.063749  0.000064  0.002431  0.931373    0.001563  "
      ]
     },
     "execution_count": 49,
     "metadata": {},
     "output_type": "execute_result"
    }
   ],
   "source": [
    "probas = torch.nn.functional.softmax(pred, dim=-1).squeeze().detach().clone()\n",
    "\n",
    "df = pd.DataFrame(\n",
    "    {\n",
    "        \"Category\": train_data.classes,\n",
    "        \"Probability\": probas.numpy(),\n",
    "    }\n",
    ")\n",
    "df_transpose = df.set_index(\"Category\", drop=True)\n",
    "df_transpose = df_transpose.transpose()\n",
    "df_transpose"
   ]
  },
  {
   "cell_type": "code",
   "execution_count": 50,
   "id": "20a7508d-2daa-4346-b3f3-649a40319d4e",
   "metadata": {},
   "outputs": [
    {
     "data": {
      "image/png": "[encoded data removed]",
      "text/plain": [
       "<Figure size 1000x200 with 1 Axes>"
      ]
     },
     "metadata": {},
     "output_type": "display_data"
    }
   ],
   "source": [
    "def _():\n",
    "    plt.figure(figsize=(10, 2))\n",
    "    plt.ylim(0.0, 1.0)\n",
    "    plt.grid(True)\n",
    "    sns.barplot(x=\"Category\", y=\"Probability\", data=df)\n",
    "_()"
   ]
  },
  {
   "cell_type": "code",
   "execution_count": null,
   "id": "5d0c670c-4c67-4c94-9acc-8fcfe7c8e094",
   "metadata": {},
   "outputs": [],
   "source": []
  }
 ],
 "metadata": {
  "kernelspec": {
   "display_name": "Python 3 (ipykernel)",
   "language": "python",
   "name": "python3"
  },
  "language_info": {
   "codemirror_mode": {
    "name": "ipython",
    "version": 3
   },
   "file_extension": ".py",
   "mimetype": "text/x-python",
   "name": "python",
   "nbconvert_exporter": "python",
   "pygments_lexer": "ipython3",
   "version": "3.13.7"
  }
 },
 "nbformat": 4,
 "nbformat_minor": 5
}
